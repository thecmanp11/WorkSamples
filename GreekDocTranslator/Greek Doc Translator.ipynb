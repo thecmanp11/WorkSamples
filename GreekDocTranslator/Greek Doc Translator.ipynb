{
 "cells": [
  {
   "cell_type": "code",
   "execution_count": null,
   "metadata": {},
   "outputs": [],
   "source": [
    "import docx\n",
    "from google_trans_new import google_translator\n",
    "translator = google_translator()  \n",
    "from pdf2docx import Converter"
   ]
  },
  {
   "cell_type": "code",
   "execution_count": null,
   "metadata": {},
   "outputs": [],
   "source": [
    "#Path to the Document you want converted\n",
    "filename = 'C:\\\\Path\\\\to\\\\really\\\\important\\\\document.docx'\n",
    "#Path to the location where you want the new document\n",
    "newdoc = 'C:\\\\Location\\\\of\\\\fresh_document.docx'"
   ]
  },
  {
   "cell_type": "code",
   "execution_count": null,
   "metadata": {},
   "outputs": [],
   "source": [
    "doc = docx.Document(filename)\n",
    "for para in doc.paragraphs:\n",
    "    if para.text in para.text:\n",
    "        try:\n",
    "            para.text = para.text.replace(para.text,\n",
    "                                          translator.translate(para.text, lang_tgt='el'))\n",
    "        except:\n",
    "            continue\n",
    "        doc.save(newdoc)"
   ]
  }
 ],
 "metadata": {
  "kernelspec": {
   "display_name": "Python 3",
   "language": "python",
   "name": "python3"
  },
  "language_info": {
   "codemirror_mode": {
    "name": "ipython",
    "version": 3
   },
   "file_extension": ".py",
   "mimetype": "text/x-python",
   "name": "python",
   "nbconvert_exporter": "python",
   "pygments_lexer": "ipython3",
   "version": "3.7.4"
  }
 },
 "nbformat": 4,
 "nbformat_minor": 2
}
